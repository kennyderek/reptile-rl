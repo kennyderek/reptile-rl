{
 "cells": [
  {
   "cell_type": "markdown",
   "metadata": {},
   "source": [
    "# Setup\n",
    "<ul>\n",
    "    <li> Choose the world environment, and define a sampler function that generates random initializations of this environment.\n",
    "    <li> Set up REINFORCE and define model arguments.\n",
    "    <li> Train REINFORCE on an example instance of the world you set up in step one.\n",
    "</ul>"
   ]
  },
  {
   "cell_type": "markdown",
   "metadata": {},
   "source": [
    "### Set up the world environment"
   ]
  },
  {
   "cell_type": "code",
   "execution_count": 1,
   "metadata": {},
   "outputs": [],
   "source": [
    "from sim import Continuous2D\n",
    "from sim import MazeArgs"
   ]
  },
  {
   "cell_type": "code",
   "execution_count": 2,
   "metadata": {},
   "outputs": [],
   "source": [
    "import numpy as np\n",
    "\n",
    "def sample_task():\n",
    "    args = MazeArgs()\n",
    "    args.goal = list(np.random.uniform(low = -2, high = 2, size=(2,)))\n",
    "    args.agent = [0., 0.]\n",
    "    maze = Continuous2D(args)\n",
    "    return maze"
   ]
  },
  {
   "cell_type": "code",
   "execution_count": 3,
   "metadata": {},
   "outputs": [],
   "source": [
    "# sample way to make an environment\n",
    "args = MazeArgs()\n",
    "args.goal = [1.42, -1.976]\n",
    "args.agent = [0., 0.]\n",
    "maze = Continuous2D(args)"
   ]
  },
  {
   "cell_type": "markdown",
   "metadata": {},
   "source": [
    "### Set up REINFORCE"
   ]
  },
  {
   "cell_type": "code",
   "execution_count": 4,
   "metadata": {},
   "outputs": [],
   "source": [
    "from reinforce import REINFORCE\n",
    "import utils_training\n",
    "\n",
    "from utils import ActorContinuous"
   ]
  },
  {
   "cell_type": "code",
   "execution_count": 5,
   "metadata": {},
   "outputs": [],
   "source": [
    "class ModelArgs():   \n",
    "    def __init__(self, world):\n",
    "        # type of model related arguments\n",
    "        self.seed = 1\n",
    "        self.state_input_size = world.state_size\n",
    "        self.action_space_size = world.num_actions\n",
    "        self.lr = 3e-4\n",
    "        self.ppo = True\n",
    "        self.ppo_base_epsilon = 0.2\n",
    "        self.ppo_dec_epsilon = 0.0\n",
    "        self.use_critic = True\n",
    "        self.use_entropy = False\n",
    "\n",
    "        # training related arguments\n",
    "        self.gradient_clipping = True\n",
    "        self.random_perm = True\n",
    "        self.num_batches = 300\n",
    "        self.num_mini_batches = 1\n",
    "        self.batch_size = 5\n",
    "        self.horizon = 100\n",
    "        self.weight_func = lambda batch_num: (1 - batch_num/self.num_batches)**2\n",
    "        \n",
    "        # policy\n",
    "        self.policy = ActorContinuous\n",
    "        self.log_goal_locs = False\n",
    "        self.hidden_size = 100"
   ]
  },
  {
   "cell_type": "markdown",
   "metadata": {},
   "source": [
    "### Train on a single world"
   ]
  },
  {
   "cell_type": "code",
   "execution_count": 6,
   "metadata": {
    "scrolled": true
   },
   "outputs": [],
   "source": [
    "QUICK_RUN = True\n",
    "if not QUICK_RUN:\n",
    "    model_args = ModelArgs(Continuous2D)\n",
    "    model_args.log_goal_locs = True\n",
    "    model_args.num_batches = 500\n",
    "    model_args.batch_size = 5\n",
    "    model_args.num_mini_batches = 2\n",
    "    model = REINFORCE(model_args)\n",
    "    rewards, losses = model.train(maze.generate_fresh())\n",
    "\n",
    "    # plot rewards\n",
    "    utils_training.plot_rewards(rewards, folder=None)\n",
    "    utils_training.plot_goal_loc()"
   ]
  },
  {
   "cell_type": "markdown",
   "metadata": {},
   "source": [
    "### View the model's trajectory on the example world"
   ]
  },
  {
   "cell_type": "code",
   "execution_count": 7,
   "metadata": {},
   "outputs": [],
   "source": [
    "import utils\n",
    "import matplotlib.pyplot as plt\n",
    "import torch\n",
    "\n",
    "def plot_path(model, env):\n",
    "    states, A, R = utils.generate_episode(model.policy, env.generate_fresh(), 100)\n",
    "    locs = np.array([list(s) for s in states])\n",
    "    plt.plot(locs[::,0], locs[::,1])\n",
    "\n",
    "if not QUICK_RUN:\n",
    "    plot_path(model, maze)"
   ]
  },
  {
   "cell_type": "markdown",
   "metadata": {},
   "source": [
    "# Compare different initializations from fast adaptation algorithms\n",
    "<ul>\n",
    "    <li> Batch REPTILE\n",
    "    <li> Batch pretraining on samples of environment\n",
    "    <li> Random initialization\n",
    "</ul>"
   ]
  },
  {
   "cell_type": "code",
   "execution_count": 8,
   "metadata": {},
   "outputs": [],
   "source": [
    "# with each method, we add the method's resulting parameters to PARAMS_LIST\n",
    "PARAMS_LIST = []"
   ]
  },
  {
   "cell_type": "markdown",
   "metadata": {},
   "source": [
    "### Batch REPTILE "
   ]
  },
  {
   "cell_type": "code",
   "execution_count": 9,
   "metadata": {
    "scrolled": true
   },
   "outputs": [
    {
     "data": {
      "application/vnd.jupyter.widget-view+json": {
       "model_id": "a040b93a41a64f2f88e489f79048b7c3",
       "version_major": 2,
       "version_minor": 0
      },
      "text/plain": [
       "HBox(children=(FloatProgress(value=0.0, max=20.0), HTML(value='')))"
      ]
     },
     "metadata": {},
     "output_type": "display_data"
    },
    {
     "name": "stdout",
     "output_type": "stream",
     "text": [
      "-181.10739358563166\n",
      "-303.66489998481916\n",
      "-114.03076737277368\n",
      "-138.4024724046013\n",
      "-205.78663558317027\n",
      "-110.27092499069619\n",
      "-119.59355571182384\n",
      "-208.08340162704724\n",
      "-149.74665292613548\n",
      "-206.53335378388084\n",
      "-286.9100567055729\n",
      "-251.8619837964021\n",
      "-245.91967453725974\n",
      "-215.6024127933387\n",
      "-99.10854833066384\n",
      "-217.4086562919478\n",
      "-210.21332261680126\n",
      "-185.48392851404535\n",
      "-74.43138446516673\n",
      "-113.24964652827752\n",
      "-244.51113369874463\n",
      "-113.53303600741586\n",
      "-242.72973476228145\n",
      "-176.86056814082613\n",
      "-205.65063606963867\n",
      "-241.34812745820574\n",
      "-184.25864457875272\n",
      "-119.86942571648738\n",
      "-191.45090987298866\n",
      "-101.37188393818425\n",
      "-208.37790562891774\n",
      "-52.15408563649475\n",
      "-227.743640640479\n",
      "-244.52087712636376\n",
      "-181.8129828446745\n",
      "-85.19211670510997\n",
      "-192.6042170992372\n",
      "-199.78019433226024\n",
      "-234.1170892497365\n",
      "-278.40264675835556\n",
      "-147.14519136763542\n",
      "-203.66682356758892\n",
      "-167.9843530309634\n",
      "-229.30152126917207\n",
      "-169.64880799142477\n",
      "-287.32650500340196\n",
      "-224.52381009107336\n",
      "-75.85027021760038\n",
      "-103.86231463409482\n",
      "-43.74488785959807\n",
      "-246.5769915186839\n",
      "-87.3339594642171\n",
      "-290.86945769258796\n",
      "-208.72687503254946\n",
      "-159.90235215007394\n",
      "-183.50277046814512\n",
      "-112.26620174837039\n",
      "-271.83878265880134\n",
      "-80.67463559777187\n",
      "-117.41814844755407\n",
      "-179.1966886676558\n",
      "-326.9336634834145\n",
      "-153.5982995041043\n",
      "-61.504727282165746\n",
      "-225.24478449949223\n",
      "-256.5011297873792\n",
      "-154.92797551407216\n",
      "-173.11649604091073\n",
      "-133.38804007600282\n",
      "-201.60448499777704\n",
      "-123.13155295978815\n",
      "-67.11745199027003\n",
      "-83.56269975153427\n",
      "-223.05716111356406\n",
      "-245.4255977727876\n",
      "-305.9622317963516\n",
      "-89.97414879683568\n",
      "-147.4172824359864\n",
      "-140.11033821392343\n",
      "-122.70455273550832\n",
      "-208.4624561408936\n",
      "-254.5490099248306\n",
      "-120.74841592926248\n",
      "-84.90293616474813\n",
      "-176.71829274017958\n",
      "-108.04614770739668\n",
      "-196.23778320788912\n",
      "-256.3171171468546\n",
      "-88.21950820005135\n",
      "-43.0051041502252\n",
      "-87.1795098602483\n",
      "-138.77495655534904\n",
      "-148.41651652886955\n",
      "-114.47932663479648\n",
      "-220.14302003244984\n",
      "-101.50555265327377\n",
      "-237.46572019188824\n",
      "-276.9958045058279\n",
      "-162.11452596985177\n",
      "-239.59764592759365\n",
      "\n"
     ]
    }
   ],
   "source": [
    "from utils_training import update_init_params\n",
    "from tqdm.notebook import tqdm\n",
    "import copy\n",
    "from collections import OrderedDict\n",
    "\n",
    "NUM_META_ITER = 20\n",
    "NUM_TASKS = 5\n",
    "K = 4\n",
    "ALPHA = 0.1\n",
    "\n",
    "# random initialization\n",
    "model_args = ModelArgs(Continuous2D)\n",
    "model_args.num_batches = K\n",
    "model_args.batch_size = 1\n",
    "model = REINFORCE(model_args)\n",
    "\n",
    "for i in tqdm(range(NUM_META_ITER)):\n",
    "    tasks = [sample_task() for _ in range(NUM_TASKS)]\n",
    "    \n",
    "    init_params = copy.deepcopy(OrderedDict(model.policy.named_parameters()))\n",
    "    temp_params = copy.deepcopy(OrderedDict(model.policy.named_parameters()))\n",
    "\n",
    "    for t in tasks:\n",
    "        model.policy.load_state_dict(init_params)\n",
    "        model.init_optimizers()\n",
    "\n",
    "        model.train(t)\n",
    "        target_policy = OrderedDict(model.policy.named_parameters())\n",
    "\n",
    "        temp_params = update_init_params(target_policy, temp_params, ALPHA/K)\n",
    "    \n",
    "    model.policy.load_state_dict(temp_params)\n",
    "\n",
    "    \n",
    "result = {\n",
    "        \"pi\": model.state_dict(),\n",
    "        \"label\": \"REPTILE\"\n",
    "    }\n",
    "PARAMS_LIST.append(result)"
   ]
  },
  {
   "cell_type": "markdown",
   "metadata": {},
   "source": [
    "### Set up pretraining"
   ]
  },
  {
   "cell_type": "code",
   "execution_count": null,
   "metadata": {
    "scrolled": true
   },
   "outputs": [
    {
     "name": "stdout",
     "output_type": "stream",
     "text": [
      "-208.6235180242367\n",
      "-187.7632247963574\n",
      "-164.1875246971656\n"
     ]
    }
   ],
   "source": [
    "model_args = ModelArgs(Continuous2D)\n",
    "model_args.num_batches = 100\n",
    "model_args.batch_size = 5\n",
    "model = REINFORCE(model_args)\n",
    "\n",
    "# we pass the model no enviornment, but just the sampler.\n",
    "rewards, losses = model.train(None, sample_task)\n",
    "\n",
    "result = {\n",
    "        \"pi\": model.state_dict(),\n",
    "        \"label\": \"PRETRAIN\"\n",
    "    }\n",
    "PARAMS_LIST.append(result)"
   ]
  },
  {
   "cell_type": "markdown",
   "metadata": {},
   "source": [
    "### Random model initialization"
   ]
  },
  {
   "cell_type": "code",
   "execution_count": 11,
   "metadata": {},
   "outputs": [],
   "source": [
    "model_args = ModelArgs(Continuous2D)\n",
    "model_args.num_batches = 20\n",
    "model_args.batch_size = 5\n",
    "model = REINFORCE(model_args)\n",
    "\n",
    "result = {\n",
    "        \"pi\": model.state_dict(),\n",
    "        \"label\": \"RANDOM\"\n",
    "    }\n",
    "PARAMS_LIST.append(result)"
   ]
  },
  {
   "cell_type": "markdown",
   "metadata": {},
   "source": [
    "### Compare the adaptation speed of initial parameters"
   ]
  },
  {
   "cell_type": "code",
   "execution_count": 12,
   "metadata": {},
   "outputs": [],
   "source": [
    "import utils_training"
   ]
  },
  {
   "cell_type": "code",
   "execution_count": 13,
   "metadata": {
    "scrolled": true
   },
   "outputs": [
    {
     "name": "stdout",
     "output_type": "stream",
     "text": [
      "-178.0737927659808\n",
      "-114.57250060254422\n",
      "-120.96704656226873\n",
      "-41.29320376163468\n",
      "-194.38638856258416\n",
      "-181.90019997349592\n",
      "-119.36856663870036\n",
      "-118.40786980568069\n",
      "-39.28414144823421\n",
      "-189.46644077375618\n",
      "-177.89177054850825\n",
      "-112.96913181401439\n",
      "-120.65542462080231\n",
      "-41.24514679649434\n",
      "-195.46725424966556\n"
     ]
    }
   ],
   "source": [
    "NUM_GRAD_UPDATES = 4\n",
    "NUM_TEST_TASKS = 5\n",
    "\n",
    "model_args.num_batches = NUM_GRAD_UPDATES\n",
    "model_args.batch_size = 1\n",
    "model_args.num_mini_batches = 1\n",
    "utils_training.compare_parameter_initializations(PARAMS_LIST, model_args, NUM_TEST_TASKS, sample_task)"
   ]
  },
  {
   "cell_type": "code",
   "execution_count": 14,
   "metadata": {},
   "outputs": [
    {
     "data": {
      "image/png": "[encoded data removed]",
      "text/plain": [
       "<Figure size 432x288 with 1 Axes>"
      ]
     },
     "metadata": {
      "needs_background": "light"
     },
     "output_type": "display_data"
    }
   ],
   "source": [
    "utils_training.plot_adaptation(PARAMS_LIST)"
   ]
  },
  {
   "cell_type": "code",
   "execution_count": null,
   "metadata": {},
   "outputs": [],
   "source": []
  }
 ],
 "metadata": {
  "kernelspec": {
   "display_name": "Python 3",
   "language": "python",
   "name": "python3"
  },
  "language_info": {
   "codemirror_mode": {
    "name": "ipython",
    "version": 3
   },
   "file_extension": ".py",
   "mimetype": "text/x-python",
   "name": "python",
   "nbconvert_exporter": "python",
   "pygments_lexer": "ipython3",
   "version": "3.7.7"
  }
 },
 "nbformat": 4,
 "nbformat_minor": 4
}
